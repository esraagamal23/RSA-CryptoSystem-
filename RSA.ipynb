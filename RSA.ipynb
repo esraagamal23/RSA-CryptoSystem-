{
 "cells": [
  {
   "cell_type": "code",
   "execution_count": 52,
   "metadata": {},
   "outputs": [],
   "source": [
    "import math\n",
    "from random import randint\n",
    "from numpy import sqrt "
   ]
  },
  {
   "cell_type": "markdown",
   "metadata": {},
   "source": [
    "Given Functions\n"
   ]
  },
  {
   "cell_type": "code",
   "execution_count": 53,
   "metadata": {},
   "outputs": [],
   "source": [
    "def GCD(a, b):\n",
    "    if b == 0:\n",
    "        return a\n",
    "    return GCD(b, a % b)\n",
    "#######################################\n",
    "def ExtendedEuclid(a, b):\n",
    "    if b == 0:\n",
    "        return (1, 0)\n",
    "    (x, y) = ExtendedEuclid(b, a % b)\n",
    "    k = a // b\n",
    "    return (y, x - k * y)\n",
    "\n",
    "\n",
    "\n",
    "def InvertModulo(a, n):\n",
    "    (b, x) = ExtendedEuclid(a, n)\n",
    "    if b < 0:\n",
    "        b = (b % n + n) % n # we don’t want −ve integers\n",
    "    return b\n",
    "##################################\n",
    "def PowMod(a, n, mod):\n",
    "    if n == 0:\n",
    "        return 1 % mod\n",
    "    elif n == 1:\n",
    "        return a % mod\n",
    "    else:\n",
    "        b = PowMod(a, n // 2, mod)\n",
    "        b = b * b % mod\n",
    "        if n % 2 == 0:\n",
    "            return b\n",
    "        else:\n",
    "            return b * a % mod\n"
   ]
  },
  {
   "cell_type": "markdown",
   "metadata": {},
   "source": [
    "Conversion Functions\n"
   ]
  },
  {
   "cell_type": "code",
   "execution_count": 54,
   "metadata": {},
   "outputs": [],
   "source": [
    "\n",
    "def ConvertToInt( message_str):\n",
    "    res = 0\n",
    "    for i in range(len(message_str)):\n",
    "        res = res * 256 + ord(message_str[i])\n",
    "    return res\n",
    "#####################################\n",
    "\n",
    "def ConvertToStr(n):\n",
    "    res = \"\"\n",
    "    while n > 0:\n",
    "        res += chr(n % 256)\n",
    "        n //= 256\n",
    "    return res[::-1]\n",
    "\n",
    "\n"
   ]
  },
  {
   "cell_type": "markdown",
   "metadata": {},
   "source": [
    "1. Encryption and Decryption Modules:"
   ]
  },
  {
   "cell_type": "code",
   "execution_count": 55,
   "metadata": {},
   "outputs": [
    {
     "name": "stdout",
     "output_type": "stream",
     "text": [
      "attack\n"
     ]
    }
   ],
   "source": [
    "#question1\n",
    "#Encryption\n",
    "def Encrypt(m, n, e):\n",
    "    m=ConvertToInt(m) \n",
    "    c=PowMod(m,e,n) \n",
    "    return c\n",
    "#Decryption\n",
    "\n",
    "def Decrypt(c, p, q, e):\n",
    "    euler=(p-1)*(q-1)\n",
    "    d=InvertModulo(e,euler) \n",
    "    n=p*q\n",
    "    m=PowMod(c,d,n) \n",
    "    m=ConvertToStr(m)\n",
    "    return m\n",
    "p = 1000000007\n",
    "q = 1000000009\n",
    "exponent = 23917\n",
    "modulo = p * q\n",
    "ciphertext = Encrypt(\"attack\", modulo, exponent)\n",
    "message = Decrypt(ciphertext, p, q, exponent)\n",
    "print(message)"
   ]
  },
  {
   "cell_type": "code",
   "execution_count": 56,
   "metadata": {},
   "outputs": [
    {
     "name": "stdout",
     "output_type": "stream",
     "text": [
      "attack\n"
     ]
    }
   ],
   "source": [
    "#question2\n",
    "def DecipherSimple(c, n, e, potential_messages):\n",
    "        decipheredtext=''\n",
    "        for i in potential_messages:\n",
    "            \n",
    "            if  Encrypt(i,n,e)==c:\n",
    "                decipheredtext=i\n",
    "        return decipheredtext\n",
    "modulo = 101\n",
    "exponent = 12  \n",
    "ciphertext = Encrypt(\"attack\", modulo, exponent)    \n",
    "print(DecipherSimple(ciphertext, modulo, exponent, [\"attack\", \"don't attack\", \"wait\"]))   "
   ]
  },
  {
   "cell_type": "code",
   "execution_count": 57,
   "metadata": {},
   "outputs": [],
   "source": [
    "# get a missing prime number\n",
    "def get_prime_number(i,j,n):\n",
    "    \n",
    "    for i in range(i,j):\n",
    "        if(n%i==0):\n",
    "            return i\n",
    "    return 0     "
   ]
  },
  {
   "cell_type": "code",
   "execution_count": 58,
   "metadata": {},
   "outputs": [
    {
     "name": "stdout",
     "output_type": "stream",
     "text": [
      "attack\n"
     ]
    }
   ],
   "source": [
    "##question3\n",
    "def DecipherSmallPrime(c, n, e):\n",
    "    p=get_prime_number(2,1000000,n) \n",
    "    decipheredtext=Decrypt(c,p,n//p,e)\n",
    "    return decipheredtext\n",
    "modulo = 101 *18298970732541109011012304219376080251334480295537316123696052970419466495220522723330315111017831737980079504337868198011077274303193766040393009648852841770668239779097280026631944319501437547002412556176186750790476901358334138818777298389724049250700606462316428106882097210008142941838672676714188593227684360287806974345181893018133710957167334490627178666071809992955566020058374505477745993383434501768887090900283569055646901291270870833498474402084748161755197005050874785474707550376333429671113753137201128897550014524209754619355308207537703754006699795711188492048286436285518105948050401762394690148387\n",
    "exponent = 239\n",
    "ciphertext = Encrypt(\"attack\", modulo, exponent)\n",
    "print(DecipherSmallPrime(ciphertext, modulo, exponent))\n"
   ]
  },
  {
   "cell_type": "code",
   "execution_count": 49,
   "metadata": {},
   "outputs": [
    {
     "name": "stdout",
     "output_type": "stream",
     "text": [
      "attack\n"
     ]
    }
   ],
   "source": [
    "#question4\n",
    "def DecipherSmallDiff(c, n, e):\n",
    "    p=get_prime_number(int(sqrt(n)-5000),int(sqrt(n)),n)\n",
    "    decipheredtext=Decrypt(c,p,n//p,e)\n",
    "    return decipheredtext\n",
    "\n",
    "p = 1000000007\n",
    "q = 1000000009\n",
    "n = p * q\n",
    "e = 239\n",
    "ciphertext = Encrypt(\"attack\", n, e)\n",
    "message = DecipherSmallDiff(ciphertext, n, e)\n",
    "print(message)\n"
   ]
  },
  {
   "cell_type": "code",
   "execution_count": 50,
   "metadata": {},
   "outputs": [
    {
     "name": "stdout",
     "output_type": "stream",
     "text": [
      "('attack', 'wait')\n"
     ]
    }
   ],
   "source": [
    "#question5\n",
    "def DecipherCommonDivisor(c1, n1, e1, c2, n2, e2):\n",
    "        p=GCD(n1,n2)\n",
    "        first_decipheredtext= Decrypt(c1,p,n1//p,e1) \n",
    "        second_decipheredtext=Decrypt(c2,p,n2//p,e2)\n",
    "        return first_decipheredtext, second_decipheredtext\n",
    "\n",
    "p = 101\n",
    "q1 = 18298970732541109011012304219376080251334480295537316123696052970419466495220522723330315111017831737980079504337868198011077274303193766040393009648852841770668239779097280026631944319501437547002412556176186750790476901358334138818777298389724049250700606462316428106882097210008142941838672676714188593227684360287806974345181893018133710957167334490627178666071809992955566020058374505477745993383434501768887090900283569055646901291270870833498474402084748161755197005050874785474707550376333429671113753137201128897550014524209754619355308207537703754006699795711188492048286436285518105948050401762394690148387\n",
    "q2 = 1000000007\n",
    "first_modulo = p * q1\n",
    "second_modulo = p * q2\n",
    "first_exponent = 239\n",
    "second_exponent = 17\n",
    "first_ciphertext = Encrypt(\"attack\", first_modulo, first_exponent)\n",
    "second_ciphertext = Encrypt(\"wait\", second_modulo, second_exponent)\n",
    "print(DecipherCommonDivisor(first_ciphertext, first_modulo, first_exponent, second_ciphertext, second_modulo, second_exponent))\n"
   ]
  },
  {
   "cell_type": "code",
   "execution_count": 51,
   "metadata": {
    "scrolled": false
   },
   "outputs": [
    {
     "name": "stdout",
     "output_type": "stream",
     "text": [
      "attack\n"
     ]
    }
   ],
   "source": [
    "#question6\n",
    "def DecipherHastad(c1, n1, c2, n2, e):\n",
    "    N1=(n1*n2)//n1\n",
    "    N2=(n1*n2)//n2\n",
    "\n",
    "    x1=InvertModulo(N1,n1)  \n",
    "    x2=InvertModulo(N2,n2)\n",
    "    c_square=(c1*N1*x1+c2*N2*x2)%(n1*n2)\n",
    "  \n",
    "    c=int(round(sqrt(float(c_square))))\n",
    "    broadcast_message=ConvertToStr(c) \n",
    "   # m1= int(round(sqrt(float(c1))))\n",
    "    #m2= int(round(sqrt(float(c2))))\n",
    "    #if(m1==m2):\n",
    "     #   broadcast_message=ConvertToStr(m1) \n",
    "    return broadcast_message\n",
    "\n",
    "p1 = 790383132652258876190399065097\n",
    "q1 = 662503581792812531719955475509\n",
    "p2 = 656917682542437675078478868539\n",
    "q2 = 1263581691331332127259083713503\n",
    "n1 = p1 * q1\n",
    "n2 = p2 * q2\n",
    "e = 2\n",
    "ciphertext1 = Encrypt(\"attack\", n1, e)\n",
    "ciphertext2 = Encrypt(\"attack\", n2, e)\n",
    "message = DecipherHastad(ciphertext1, n1, ciphertext2, n2, e)\n",
    "print(message)"
   ]
  }
 ],
 "metadata": {
  "kernelspec": {
   "display_name": "Python 3",
   "language": "python",
   "name": "python3"
  },
  "language_info": {
   "codemirror_mode": {
    "name": "ipython",
    "version": 3
   },
   "file_extension": ".py",
   "mimetype": "text/x-python",
   "name": "python",
   "nbconvert_exporter": "python",
   "pygments_lexer": "ipython3",
   "version": "3.8.3"
  }
 },
 "nbformat": 4,
 "nbformat_minor": 4
}
